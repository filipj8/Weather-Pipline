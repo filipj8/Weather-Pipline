{
 "cells": [
  {
   "cell_type": "code",
   "execution_count": 1,
   "metadata": {
    "collapsed": true
   },
   "outputs": [],
   "source": [
    "import os\n",
    "import pandas as pd\n",
    "import numpy as np\n",
    "import hashlib\n",
    "from tqdm import tqdm\n",
    "\n",
    "def reproject(latitude, longitude):\n",
    "        \"\"\"Returns the x & y coordinates in meters using a sinusoidal projection\"\"\"\n",
    "        earth_radius = 6371009 # in meters\n",
    "        lat_dist = np.pi * earth_radius / 180.0\n",
    "\n",
    "        y = latitude*lat_dist\n",
    "        x = longitude * lat_dist * np.cos(np.radians(latitude))\n",
    "        return x, y\n",
    "\n",
    "    \n",
    "def hash_it(s):\n",
    "    return hashlib.sha224(s.encode('utf-8')).hexdigest()    \n",
    "\n",
    "\n",
    "def Bin_and_Split(d):\n",
    "\n",
    "    stations = pd.read_csv('ghcnd-stations.csv', index_col=0)\n",
    "    \n",
    "    # Reduce the stations to the ones that exist in ghcn_df (from GHCN-D Downloader.ipynb)\n",
    "    stations = stations[stations.index.isin(stations_with_data)]\n",
    "\n",
    "    stations['x'], stations['y'] = reproject(stations['LATITUDE'], stations['LONGITUDE'])\n",
    "\n",
    "    step_size = (stations['x'].max()-stations['x'].min())/d\n",
    "\n",
    "    # Bin stations \n",
    "    labels = [ \"{0} to {1}\".format(i, i + step_size) for i in np.arange(stations['x'].min(), stations['x'].max(), step_size) ]\n",
    "    stations['x_group'] = pd.cut(stations.x, np.arange(stations['x'].min(), stations['x'].max()+step_size, step_size), right=False, labels=labels)\n",
    "    stations['y_group'] = pd.cut(stations.y, np.arange(stations['x'].min(), stations['x'].max()+step_size, step_size), right=False, labels=labels)\n",
    "    stations['xy_group'] = stations['x_group'].astype('str') + ', ' + stations['y_group'].astype('str')\n",
    "    \n",
    "    # Find hashing from xy_group\n",
    "    stations['hash']=stations['xy_group'].apply(hash_it)\n",
    "    \n",
    "    # Map hashing to ghcn data, sort for faster querying\n",
    "    ghcn2 = ghcn_df.copy()\n",
    "    ghcn2['hash'] = stations['hash']\n",
    "    ghcn2 = ghcn2.sort_values('hash')\n",
    "    ghcn3 = ghcn2.drop('hash', axis=1)\n",
    "\n",
    "    # Create the folder that will hold the csvs for that specific step size\n",
    "    new_folder = 'BinnedCsvs_d{}'.format(d)\n",
    "    os.mkdir(new_folder)\n",
    "    \n",
    "    # For each hash, select from ghcn data and save to csv\n",
    "    sorted_hashes = np.sort(stations['hash'].unique())\n",
    "    for hashid in sorted_hashes:\n",
    "        left, = ghcn2['hash'].searchsorted(hashid, 'left')\n",
    "        right, = ghcn2['hash'].searchsorted(hashid, 'right')\n",
    "        df_by_bin = ghcn3.iloc[left:right]\n",
    "        df_by_bin.to_csv('./'+new_folder+'/{}.csv'.format(hashid))\n",
    "\n",
    "    stations.to_csv('BinSize_d{}.csv'.format(d))"
   ]
  },
  {
   "cell_type": "code",
   "execution_count": 2,
   "metadata": {
    "collapsed": false
   },
   "outputs": [
    {
     "name": "stderr",
     "output_type": "stream",
     "text": [
      "100%|██████████| 3/3 [2:33:46<00:00, 3120.31s/it]\n"
     ]
    }
   ],
   "source": [
    "# These are the step sizes we want to use\n",
    "step_sizes = [400, 200, 100, 50, 25, 18, 12.5]\n",
    "\n",
    "# Load ghcn data\n",
    "ghcn_df = pd.read_hdf('GHCND_10Year.h5')\n",
    "\n",
    "# Pull out the set of stations that have passed the initial requirements from `GHCN-D Downloader`\n",
    "stations_with_data = set(ghcn_df.index)\n",
    "\n",
    "for s in tqdm(step_sizes):\n",
    "    Bin_and_Split(s)"
   ]
  },
  {
   "cell_type": "markdown",
   "metadata": {},
   "source": [
    " "
   ]
  }
 ],
 "metadata": {
  "anaconda-cloud": {},
  "kernelspec": {
   "display_name": "Python [conda root]",
   "language": "python",
   "name": "conda-root-py"
  },
  "language_info": {
   "codemirror_mode": {
    "name": "ipython",
    "version": 3
   },
   "file_extension": ".py",
   "mimetype": "text/x-python",
   "name": "python",
   "nbconvert_exporter": "python",
   "pygments_lexer": "ipython3",
   "version": "3.5.2"
  }
 },
 "nbformat": 4,
 "nbformat_minor": 1
}
