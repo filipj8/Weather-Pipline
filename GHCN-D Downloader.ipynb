{
 "cells": [
  {
   "cell_type": "code",
   "execution_count": 1,
   "metadata": {
    "collapsed": true
   },
   "outputs": [],
   "source": [
    "import pandas as pd\n",
    "import numpy as np\n",
    "from tqdm import tqdm\n",
    "\n",
    "# These are the years we want to get the data for\n",
    "years = np.arange(11)+2005\n",
    "\n",
    "ghcnd = []\n",
    "\n",
    "# For each year, download the corresponding data, and perform cleaning\n",
    "for year in tqdm(years):\n",
    "    df = pd.read_csv('ftp://ftp.ncdc.noaa.gov/pub/data/ghcn/daily/by_year/{}.csv.gz'.format(year),\n",
    "                        compression='gzip', \n",
    "                        index_col=0, \n",
    "                        header=None,\n",
    "                        usecols=[0,1,2,3,5],\n",
    "                        names=['ID', 'Date', 'Element', 'Data_Value', 'M-FLAG', 'Q-FLAG', 'S-FLAG', 'OBS-TIME'],\n",
    "                        parse_dates = [1],\n",
    "                        infer_datetime_format=True)\n",
    "    df = df[(df['Element'].isin(['TMAX', 'TMIN'])) & (df['Q-FLAG'].isnull()) & (df['Data_Value'].notnull())]\n",
    "    df = df.drop('Q-FLAG', axis=1)\n",
    "    ghcnd.append(df)\n",
    "\n",
    "# Create master DataFrame\n",
    "ghcnd_df = pd.concat(ghcnd)\n",
    "\n",
    "# Save to hdf5\n",
    "ghcnd_df.to_hdf('GHCND_10Year.h5', 'ghcn_df')"
   ]
  }
 ],
 "metadata": {
  "anaconda-cloud": {},
  "kernelspec": {
   "display_name": "Python [conda root]",
   "language": "python",
   "name": "conda-root-py"
  },
  "language_info": {
   "codemirror_mode": {
    "name": "ipython",
    "version": 3
   },
   "file_extension": ".py",
   "mimetype": "text/x-python",
   "name": "python",
   "nbconvert_exporter": "python",
   "pygments_lexer": "ipython3",
   "version": "3.5.2"
  }
 },
 "nbformat": 4,
 "nbformat_minor": 1
}
